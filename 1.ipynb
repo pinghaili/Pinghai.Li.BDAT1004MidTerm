{
 "cells": [
  {
   "cell_type": "code",
   "execution_count": 3,
   "id": "bcf94895",
   "metadata": {},
   "outputs": [
    {
     "name": "stdout",
     "output_type": "stream",
     "text": [
      "5.0\n",
      "0.75\n"
     ]
    }
   ],
   "source": [
    "\n",
    "class Point:\n",
    "    def __init__(self, y = 0, x = 0):\n",
    "        self.x = x\n",
    "        self.y = y\n",
    "\n",
    "class Segment:\n",
    "    def __init__(self, point1, point2):\n",
    "        self.point1 = point1\n",
    "        self.point2 = point2\n",
    "\n",
    "    def length(self):\n",
    "        xsquare = (self.point1.x - self.point2.x) ** 2 \n",
    "        ysquare = (self.point1.y - self.point2.y) ** 2 \n",
    "        return (xsquare + ysquare) ** 0.5\n",
    "\n",
    "    def slope(self):\n",
    "        try:\n",
    "            return (self.point2.y - self.point1.y) / (self.point2.x - self.point1.x)\n",
    "        except ZeroDivisionError:\n",
    "            return None  \n",
    "\n",
    "p1 = Point(3, 4)\n",
    "p2 = Point()\n",
    "s = Segment(p1, p2)\n",
    "\n",
    "print(s.length())\n",
    "print(s.slope())"
   ]
  }
 ],
 "metadata": {
  "kernelspec": {
   "display_name": "Python 3 (ipykernel)",
   "language": "python",
   "name": "python3"
  },
  "language_info": {
   "codemirror_mode": {
    "name": "ipython",
    "version": 3
   },
   "file_extension": ".py",
   "mimetype": "text/x-python",
   "name": "python",
   "nbconvert_exporter": "python",
   "pygments_lexer": "ipython3",
   "version": "3.11.5"
  }
 },
 "nbformat": 4,
 "nbformat_minor": 5
}
